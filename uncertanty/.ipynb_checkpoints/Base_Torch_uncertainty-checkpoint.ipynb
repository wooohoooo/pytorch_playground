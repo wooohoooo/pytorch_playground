{
 "cells": [
  {
   "cell_type": "code",
   "execution_count": null,
   "metadata": {},
   "outputs": [],
   "source": [
    "!python -V\n",
    "\n",
    "\n",
    "# from https://nbviewer.jupyter.org/github/napsternxg/pytorch-practice/blob/master/Pytorch%20Uncertainity-animated.ipynb"
   ]
  },
  {
   "cell_type": "code",
   "execution_count": null,
   "metadata": {},
   "outputs": [],
   "source": [
    "%matplotlib inline\n",
    "\n",
    "import numpy as np\n",
    "import torch\n",
    "from torch.autograd import Variable\n",
    "\n",
    "from matplotlib import animation\n",
    "#Writer = animation.writers['pillow']\n",
    "#writer = Writer(fps=15, metadata=dict(artist='Me'), bitrate=1800)\n",
    "\n",
    "import matplotlib.pyplot as plt\n",
    "\n",
    "plt.rcParams[\"figure.figsize\"] = (16,9)\n",
    "\n",
    "import seaborn as sns\n",
    "ffmpeg_path = 'C://Users//thoma//Documents//ffmpeg//FFmpeg//bin'#//bin'\n",
    "#C:\\Users\\thoma\\Documents\\ffmpeg\\FFmpeg\\bin\n",
    "#plt.rcParams['animation.ffmpeg_path'] = ffmpeg_path\n",
    "\n",
    "from tqdm import tqdm, trange\n",
    "from ipywidgets import interact, fixed\n",
    "from IPython.display import HTML, display\n",
    "import os"
   ]
  },
  {
   "cell_type": "code",
   "execution_count": null,
   "metadata": {},
   "outputs": [],
   "source": [
    "os.listdir(ffmpeg_path)"
   ]
  },
  {
   "cell_type": "code",
   "execution_count": null,
   "metadata": {},
   "outputs": [],
   "source": [
    "sns.set_context(\"poster\")\n",
    "sns.set_style(\"ticks\")\n",
    "\n",
    "np.random.seed(101217209)"
   ]
  },
  {
   "cell_type": "code",
   "execution_count": null,
   "metadata": {},
   "outputs": [],
   "source": [
    "def get_data(N, min_x, max_x):\n",
    "    w, b = np.random.randn(2)\n",
    "    def true_model(X):\n",
    "        lin_factor = w * X + b\n",
    "        y = np.sin(lin_factor*10)*(lin_factor**2)\n",
    "        return y\n",
    "    X_true = np.arange(min_x, max_x, 0.01)\n",
    "    y_true = true_model(X_true)\n",
    "    span = (max_x - min_x)\n",
    "    scale = 0.2\n",
    "    X_obs = min_x + span*scale + np.random.rand(N)*(span - 2*scale*span)\n",
    "    y_obs = true_model(X_obs) + np.random.randn(N)*0.1\n",
    "    return (X_obs, y_obs, X_true, y_true), (w, b, true_model)"
   ]
  },
  {
   "cell_type": "code",
   "execution_count": null,
   "metadata": {},
   "outputs": [],
   "source": [
    "N = 100\n",
    "min_x, max_x = -1, 1\n",
    "(X_obs, y_obs, X_true, y_true), (w, b, true_model) = get_data(N, min_x, max_x)"
   ]
  },
  {
   "cell_type": "code",
   "execution_count": null,
   "metadata": {},
   "outputs": [],
   "source": [
    "plt.plot(X_obs, y_obs, ls=\"none\", marker=\"o\", color=\"k\", label=\"observed\")\n",
    "plt.plot(X_true, y_true, ls=\"-\", color=\"r\", label=\"true\")\n",
    "plt.legend()\n",
    "sns.despine(offset=10)"
   ]
  },
  {
   "cell_type": "code",
   "execution_count": null,
   "metadata": {},
   "outputs": [],
   "source": [
    "class SimpleModel(torch.nn.Module):\n",
    "    def __init__(self, p=0.05, decay=0.001, non_linearity=torch.nn.ReLU):\n",
    "        super(SimpleModel, self).__init__()\n",
    "        self.dropout_p = p\n",
    "        self.decay = decay\n",
    "        self.f = torch.nn.Sequential(\n",
    "            torch.nn.Linear(1,20),\n",
    "            torch.nn.ReLU(),\n",
    "            torch.nn.Dropout(p=self.dropout_p),\n",
    "            torch.nn.Linear(20,20),\n",
    "            torch.nn.ReLU(),\n",
    "            torch.nn.Dropout(p=self.dropout_p),\n",
    "            torch.nn.Linear(20, 10),\n",
    "            non_linearity(),\n",
    "            torch.nn.Dropout(p=self.dropout_p),\n",
    "            torch.nn.Linear(10,1)\n",
    "        )\n",
    "    def forward(self, X):\n",
    "        X = Variable(torch.Tensor(X), requires_grad=False)\n",
    "        return self.f(X)\n",
    "    \n",
    "def uncertainity_estimate(X, model, iters, l2=0.005, range_fn=trange):\n",
    "    outputs = np.hstack([model(X[:, np.newaxis]).data.numpy() for i in range_fn(iters)])\n",
    "    y_mean = outputs.mean(axis=1)\n",
    "    y_variance = outputs.var(axis=1)\n",
    "    tau = l2 * (1-model.dropout_p) / (2*N*model.decay)\n",
    "    y_variance += (1/tau)\n",
    "    y_std = np.sqrt(y_variance) #+ (1/tau)\n",
    "    return y_mean, y_std\n",
    "\n",
    "def plot_model(model, iters=200, l2=0.005, n_std=3, ax=None):\n",
    "    if ax is None:\n",
    "        plt.close(\"all\")\n",
    "        plt.clf()\n",
    "        fig, ax = plt.subplots(1,1)\n",
    "    y_mean, y_std = uncertainity_estimate(X_true, model, iters, l2=l2)\n",
    "    \n",
    "    ax.plot(X_obs, y_obs, ls=\"none\", marker=\"o\", color=\"0.1\", alpha=0.5, label=\"observed\")\n",
    "    ax.plot(X_true, y_true, ls=\"-\", color=\"r\", label=\"true\")\n",
    "    ax.plot(X_true, y_mean, ls=\"-\", color=\"b\", label=\"mean\")\n",
    "    for i in range(n_std):\n",
    "        ax.fill_between(\n",
    "            X_true,\n",
    "            y_mean - y_std * ((i+1)/2),\n",
    "            y_mean + y_std * ((i+1)/2),\n",
    "            color=\"b\",\n",
    "            alpha=0.1\n",
    "        )\n",
    "    ax.legend()\n",
    "    sns.despine(offset=10)\n",
    "    return ax"
   ]
  },
  {
   "cell_type": "code",
   "execution_count": null,
   "metadata": {},
   "outputs": [],
   "source": [
    "model = SimpleModel(p=0.1, decay = 1e-6, non_linearity=torch.nn.ReLU)\n"
   ]
  },
  {
   "cell_type": "code",
   "execution_count": null,
   "metadata": {},
   "outputs": [],
   "source": [
    "y_mean, y_std = uncertainity_estimate(X_true, model, 200)\n"
   ]
  },
  {
   "cell_type": "code",
   "execution_count": null,
   "metadata": {},
   "outputs": [],
   "source": [
    "criterion = torch.nn.MSELoss()\n",
    "optimizer = torch.optim.Adam(\n",
    "    model.parameters(),\n",
    "    weight_decay=model.decay)"
   ]
  },
  {
   "cell_type": "code",
   "execution_count": null,
   "metadata": {},
   "outputs": [],
   "source": [
    "def fit_model(model, optimizer):\n",
    "    y = Variable(torch.Tensor(y_obs[:, np.newaxis]), requires_grad=False)\n",
    "    y_pred = model(X_obs[:, np.newaxis])\n",
    "    optimizer.zero_grad()\n",
    "    loss = criterion(y_pred, y)\n",
    "    loss.backward()\n",
    "    optimizer.step()\n",
    "    return loss"
   ]
  },
  {
   "cell_type": "code",
   "execution_count": null,
   "metadata": {},
   "outputs": [],
   "source": [
    "fig = plt.figure(figsize=(10, 15))\n",
    "ax0 = plt.subplot2grid((3,1), (0, 0), rowspan=2)\n",
    "ax1 = plt.subplot2grid((3,1), (2, 0))\n",
    "losses = []\n",
    "for i in trange(10000):\n",
    "    loss = fit_model(model, optimizer)\n",
    "    losses.append(loss.data.numpy())\n",
    "print(\"loss={}\".format(loss))\n",
    "ax1.plot(losses, ls=\"-\", lw=1, alpha=0.5)\n",
    "plot_model(model, l2=0.01, ax=ax0)"
   ]
  },
  {
   "cell_type": "code",
   "execution_count": null,
   "metadata": {},
   "outputs": [],
   "source": [
    "plot_model(model, n_std=4, l2=10)\n"
   ]
  },
  {
   "cell_type": "code",
   "execution_count": null,
   "metadata": {},
   "outputs": [],
   "source": [
    "class AnimateTraining(object):\n",
    "    def __init__(self, model, u_iters=200, l2=1, n_std=4, title=\"\"):\n",
    "        self.model = model\n",
    "        self.criterion = torch.nn.MSELoss()\n",
    "        self.optimizer = torch.optim.Adam(\n",
    "            model.parameters(),\n",
    "            weight_decay=model.decay)\n",
    "        \n",
    "        self.losses = []\n",
    "        self.n_std = n_std\n",
    "        self.u_iters = u_iters\n",
    "        self.l2 = l2\n",
    "        self.title = title\n",
    "        \n",
    "        ## plot items\n",
    "        self.fig, self.ax0 = plt.subplots(1,1)\n",
    "        \n",
    "        self.ax0.plot(X_obs, y_obs, ls=\"none\", marker=\"o\", color=\"0.1\", alpha=0.5, label=\"observed\")\n",
    "        self.ax0.plot(X_true, y_true, ls=\"-\", color=\"r\", label=\"true\")\n",
    "        self.ln_mean, = self.ax0.plot([], [], ls=\"-\", color=\"b\", label=\"mean\")\n",
    "        \n",
    "        self.loss_text = self.ax0.set_title('', fontsize=15)\n",
    "        \n",
    "        self.fill_stds = []\n",
    "        for i in range(self.n_std):\n",
    "            fill_t = self.ax0.fill_between(\n",
    "                [], [], [],\n",
    "                color=\"b\",\n",
    "                alpha=0.5**(i+1)\n",
    "            )\n",
    "            self.fill_stds.append(fill_t)\n",
    "            \n",
    "        self.ax0.legend(loc=\"upper left\")\n",
    "        \n",
    "        \n",
    "    def fit_model(self):\n",
    "        y = Variable(torch.Tensor(y_obs[:, np.newaxis]), requires_grad=False)\n",
    "        y_pred = self.model(X_obs[:, np.newaxis])\n",
    "        self.optimizer.zero_grad()\n",
    "        loss = self.criterion(y_pred, y)\n",
    "        loss.backward()\n",
    "        self.optimizer.step()\n",
    "        return loss\n",
    "            \n",
    "    def init_plot(self):\n",
    "        self.ln_mean.set_data([], [])\n",
    "        self.loss_text.set_text('')\n",
    "        return self.ln_mean, self.loss_text\n",
    "    \n",
    "    def animate_plot(self, i):\n",
    "        for j in range(100):\n",
    "            loss = self.fit_model().data.numpy()\n",
    "            self.losses.append(loss)\n",
    "        \n",
    "        self.loss_text.set_text('{}, loss[{}]={:.3f}'.format(self.title, (i+1)*100, loss))\n",
    "        \n",
    "        y_mean, y_std = uncertainity_estimate(\n",
    "            X_true, self.model, self.u_iters, l2=self.l2,\n",
    "            range_fn=range\n",
    "        )\n",
    "        \n",
    "        self.ln_mean.set_data(X_true, y_mean)\n",
    "        for i in range(self.n_std):\n",
    "            self.fill_stds[i].remove()\n",
    "            self.fill_stds[i] = self.ax0.fill_between(\n",
    "                X_true,\n",
    "                y_mean - y_std * ((i+1)/2),\n",
    "                y_mean + y_std * ((i+1)/2),\n",
    "                color=\"b\",\n",
    "                alpha=0.5**(i+1)\n",
    "            )\n",
    "        return [self.ln_mean, self.loss_text] + self.fill_stds\n",
    "        \n",
    "        \n",
    "    def train(self, iters, interval=100):\n",
    "        anim = animation.FuncAnimation(\n",
    "            self.fig, self.animate_plot, init_func=self.init_plot,\n",
    "            frames=range(iters), interval=interval, blit=True)\n",
    "        return HTML(anim.to_html5_video())"
   ]
  },
  {
   "cell_type": "code",
   "execution_count": null,
   "metadata": {},
   "outputs": [],
   "source": [
    "model = SimpleModel(p=0.1, decay = 1e-6, non_linearity=torch.nn.ReLU)\n",
    "animate_obj = AnimateTraining(model, l2=0.01)"
   ]
  },
  {
   "cell_type": "code",
   "execution_count": null,
   "metadata": {},
   "outputs": [],
   "source": [
    "animate_obj.train(100, interval=100)\n"
   ]
  },
  {
   "cell_type": "code",
   "execution_count": null,
   "metadata": {},
   "outputs": [],
   "source": [
    "# !pip install ffmpeg"
   ]
  },
  {
   "cell_type": "code",
   "execution_count": null,
   "metadata": {},
   "outputs": [],
   "source": [
    "! pip install ffmpeg-python\n"
   ]
  },
  {
   "cell_type": "code",
   "execution_count": null,
   "metadata": {},
   "outputs": [],
   "source": [
    "! pip install Pillow"
   ]
  },
  {
   "cell_type": "code",
   "execution_count": null,
   "metadata": {},
   "outputs": [],
   "source": []
  },
  {
   "cell_type": "code",
   "execution_count": null,
   "metadata": {},
   "outputs": [],
   "source": []
  }
 ],
 "metadata": {
  "kernelspec": {
   "display_name": "Python 3",
   "language": "python",
   "name": "python3"
  },
  "language_info": {
   "codemirror_mode": {
    "name": "ipython",
    "version": 3
   },
   "file_extension": ".py",
   "mimetype": "text/x-python",
   "name": "python",
   "nbconvert_exporter": "python",
   "pygments_lexer": "ipython3",
   "version": "3.7.4"
  }
 },
 "nbformat": 4,
 "nbformat_minor": 4
}
