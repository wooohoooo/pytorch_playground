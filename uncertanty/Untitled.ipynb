{
 "cells": [
  {
   "cell_type": "code",
   "execution_count": 25,
   "metadata": {},
   "outputs": [
    {
     "name": "stdout",
     "output_type": "stream",
     "text": [
      "The autoreload extension is already loaded. To reload it, use:\n",
      "  %reload_ext autoreload\n"
     ]
    }
   ],
   "source": [
    "%matplotlib inline\n",
    "%load_ext autoreload\n",
    "\n",
    "%autoreload 2\n",
    "\n",
    "import numpy as np\n",
    "import torch\n",
    "\n",
    "from matplotlib import animation\n",
    "#Writer = animation.writers['pillow']\n",
    "#writer = Writer(fps=15, metadata=dict(artist='Me'), bitrate=1800)\n",
    "\n",
    "import matplotlib.pyplot as plt\n",
    "\n",
    "\n",
    "import seaborn as sns\n",
    "ffmpeg_path = 'C://Users//thoma//Documents//ffmpeg//FFmpeg//bin'#//bin'\n",
    "#C:\\Users\\thoma\\Documents\\ffmpeg\\FFmpeg\\bin\n",
    "#plt.rcParams['animation.ffmpeg_path'] = ffmpeg_path\n",
    "\n",
    "from tqdm import tqdm, trange\n",
    "from ipywidgets import interact, fixed\n",
    "from IPython.display import HTML, display\n",
    "import os"
   ]
  },
  {
   "cell_type": "code",
   "execution_count": 26,
   "metadata": {},
   "outputs": [],
   "source": [
    "plt.rcParams[\"figure.figsize\"] = (20,10)\n"
   ]
  },
  {
   "cell_type": "code",
   "execution_count": 27,
   "metadata": {},
   "outputs": [],
   "source": [
    "sns.set_context(\"poster\")\n",
    "sns.set_style(\"ticks\")\n",
    "\n",
    "np.random.seed(101217209)"
   ]
  },
  {
   "cell_type": "code",
   "execution_count": 28,
   "metadata": {},
   "outputs": [],
   "source": [
    "from src.data_generators import get_data\n",
    "from src.models import BootstrapEnsemble, VanillaEnsemble, SimpleModel\n",
    "from src.helpers import plot_model\n"
   ]
  },
  {
   "cell_type": "code",
   "execution_count": 29,
   "metadata": {},
   "outputs": [],
   "source": [
    "N = 100\n",
    "min_x, max_x = -3, 1\n",
    "(X_obs, y_obs, X_true, y_true), (w, b, true_model) = get_data(N, min_x, max_x)"
   ]
  },
  {
   "cell_type": "code",
   "execution_count": null,
   "metadata": {},
   "outputs": [
    {
     "name": "stderr",
     "output_type": "stream",
     "text": [
      "  8%|██████▋                                                                         | 84/1000 [00:02<00:29, 30.87it/s]"
     ]
    }
   ],
   "source": [
    "ensemble = BootstrapEnsemble(X_obs,y_obs,X_true,y_true,p=0.00, decay=0.001, non_linearity=torch.nn.Sigmoid, n_models=10, model_list=None,u_iters=100, l2=1, n_std=4, title=\"\",dataset_lenght =len(y_obs))\n",
    "y_mean, y_std = ensemble.ensemble_uncertainity_estimate(X_true, ensemble, 200)\n",
    "fig = plt.figure(figsize=(10, 15))\n",
    "#ax0 = plt.subplot2grid((3,1), (0, 0), rowspan=2)\n",
    "ax1 = plt.subplot2grid((3,1), (2, 0))\n",
    "losses = []\n",
    "for i in trange(1000):\n",
    "    loss = ensemble.fit_ensemble(X_obs,y_obs)\n",
    "    losses.append(loss)\n",
    "print(\"loss={}\".format(loss))\n",
    "ax1.plot(losses, ls=\"-\", lw=1, alpha=0.5)\n",
    "#plot_model(model, l2=0.01, ax=ax0)\n",
    "\n"
   ]
  },
  {
   "cell_type": "code",
   "execution_count": null,
   "metadata": {},
   "outputs": [],
   "source": [
    "plt.figure()\n",
    "plot_model(ensemble,X_true,y_true,X_obs,y_obs, n_std=4, l2=10)"
   ]
  },
  {
   "cell_type": "code",
   "execution_count": null,
   "metadata": {},
   "outputs": [],
   "source": []
  },
  {
   "cell_type": "code",
   "execution_count": null,
   "metadata": {},
   "outputs": [],
   "source": []
  },
  {
   "cell_type": "code",
   "execution_count": null,
   "metadata": {},
   "outputs": [],
   "source": []
  }
 ],
 "metadata": {
  "kernelspec": {
   "display_name": "Python 3",
   "language": "python",
   "name": "python3"
  },
  "language_info": {
   "codemirror_mode": {
    "name": "ipython",
    "version": 3
   },
   "file_extension": ".py",
   "mimetype": "text/x-python",
   "name": "python",
   "nbconvert_exporter": "python",
   "pygments_lexer": "ipython3",
   "version": "3.7.4"
  }
 },
 "nbformat": 4,
 "nbformat_minor": 4
}
